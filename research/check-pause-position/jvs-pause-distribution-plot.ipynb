{
 "cells": [
  {
   "cell_type": "code",
   "execution_count": null,
   "metadata": {},
   "outputs": [],
   "source": [
    "import numpy as np\n",
    "import matplotlib.pyplot as plt\n",
    "import seaborn as sns\n",
    "import pandas as pd\n",
    "from pathlib import Path"
   ]
  },
  {
   "cell_type": "code",
   "execution_count": null,
   "metadata": {},
   "outputs": [],
   "source": [
    "jvs_path = Path(\"/Users/takeshitashunji/Downloads/jvs_ver1 2\")\n",
    "\n",
    "# jvs001~jvs100\n",
    "jvs_list = [f\"{i:03}\" for i in range(1, 101)]\n",
    "\n",
    "# labファイルのパスを取得\n",
    "lab_paths = {\n",
    "    i: jvs_path / f\"jvs{i}\" / f\"parallel100/lab/mon\" / f\"VOICEACTRESS100_001.lab\"\n",
    "    for i in jvs_list\n",
    "    if i not in [\"006\", \"028\"]\n",
    "}\n",
    "print(len(lab_paths))\n",
    "print(lab_paths[\"001\"])"
   ]
  },
  {
   "cell_type": "code",
   "execution_count": null,
   "metadata": {},
   "outputs": [],
   "source": [
    "df_lab = []\n",
    "for jvs_num, lab_path in lab_paths.items():\n",
    "    with open(lab_path) as f:\n",
    "        for phoneme_idx, line in enumerate(f):\n",
    "            start, end, phoneme = line.split()\n",
    "            df_lab.append(\n",
    "                {\n",
    "                    \"jvs_num\": jvs_num,\n",
    "                    \"start\": float(start),\n",
    "                    \"end\": float(end),\n",
    "                    \"phoneme\": phoneme,\n",
    "                    \"phoneme_idx\": phoneme_idx,\n",
    "                }\n",
    "            )\n",
    "\n",
    "df_lab = pd.DataFrame(df_lab)\n",
    "df_lab[\"duration\"] = df_lab[\"end\"] - df_lab[\"start\"]\n",
    "df_lab.head()"
   ]
  },
  {
   "cell_type": "code",
   "execution_count": null,
   "metadata": {},
   "outputs": [],
   "source": [
    "df_lab[df_lab[\"jvs_num\"] == \"001\"][\"phoneme\"].values"
   ]
  },
  {
   "cell_type": "code",
   "execution_count": null,
   "metadata": {},
   "outputs": [],
   "source": [
    "duration_arr = []\n",
    "for jvs_num in df_lab[\"jvs_num\"].unique():\n",
    "    df_jvs = df_lab[df_lab[\"jvs_num\"] == jvs_num]\n",
    "    duration_arr.append(df_jvs[\"duration\"].values)\n",
    "\n",
    "duration_arr = np.array(duration_arr)\n",
    "print(duration_arr.shape)\n",
    "\n",
    "# 各音素分散のヒストグラム\n",
    "duration_center = np.mean(duration_arr, axis=0)\n",
    "duration_arr_center = duration_arr - duration_center\n",
    "duration_var = np.var(duration_arr_center, axis=0)\n",
    "print(duration_var.shape)\n",
    "plt.figure(figsize=(20, 10))\n",
    "x = df_lab[df_lab[\"jvs_num\"] == \"001\"][\"phoneme\"].values\n",
    "plt.plot(range(len(x)), duration_var)\n",
    "plt.xticks(range(len(x)), x)\n",
    "# plt.ylim(0, 0.01)\n",
    "plt.show()"
   ]
  },
  {
   "cell_type": "code",
   "execution_count": null,
   "metadata": {},
   "outputs": [],
   "source": [
    "duration_arr.T.shape"
   ]
  },
  {
   "cell_type": "code",
   "execution_count": null,
   "metadata": {},
   "outputs": [],
   "source": [
    "df_lab[df_lab[\"jvs_num\"] == \"001\"][[\"phoneme\", \"phoneme_idx\"]].values[50:]"
   ]
  },
  {
   "cell_type": "code",
   "execution_count": null,
   "metadata": {},
   "outputs": [],
   "source": [
    "duration_arr = []\n",
    "for jvs_num in df_lab[\"jvs_num\"].unique():\n",
    "    df_jvs = df_lab[df_lab[\"jvs_num\"] == jvs_num]\n",
    "    duration_arr.append(df_jvs[\"duration\"].values)\n",
    "\n",
    "duration_arr = np.array(duration_arr)\n",
    "print(duration_arr.shape)\n",
    "\n",
    "plt.figure(figsize=(20, 10))\n",
    "x = df_lab[df_lab[\"jvs_num\"] == \"001\"][\"phoneme\"].values\n",
    "plt.boxplot(duration_arr, labels=x)\n",
    "# plt.xticks(range(len(x)), x)\n",
    "# plt.ylim(0, 0.01)\n",
    "plt.show()"
   ]
  },
  {
   "cell_type": "code",
   "execution_count": null,
   "metadata": {},
   "outputs": [],
   "source": [
    "df_lab[df_lab[\"phoneme_idx\"] == 61][df_lab[\"duration\"] > 0.4]"
   ]
  },
  {
   "cell_type": "code",
   "execution_count": null,
   "metadata": {},
   "outputs": [],
   "source": [
    "df_lab[df_lab[\"phoneme_idx\"] == 61][df_lab[\"duration\"] < 0.05]"
   ]
  },
  {
   "cell_type": "code",
   "execution_count": null,
   "metadata": {},
   "outputs": [],
   "source": [
    "for i, p in enumerate(df_lab[df_lab[\"jvs_num\"] == \"001\"][\"phoneme\"].values):\n",
    "    print(i, p)"
   ]
  },
  {
   "cell_type": "code",
   "execution_count": null,
   "metadata": {},
   "outputs": [],
   "source": [
    "# 各音素の最大最小の人を表示\n",
    "\n",
    "duration_max = np.argmax(duration_arr, axis=0)\n",
    "duration_min = np.argmin(duration_arr, axis=0)\n",
    "\n",
    "# t\n",
    "phoneme_num = 11\n",
    "print(duration_max[phoneme_num], duration_min[phoneme_num])\n",
    "print(jvs_list[duration_max[phoneme_num]], jvs_list[duration_min[phoneme_num]])"
   ]
  },
  {
   "cell_type": "code",
   "execution_count": null,
   "metadata": {},
   "outputs": [],
   "source": []
  },
  {
   "cell_type": "code",
   "execution_count": null,
   "metadata": {},
   "outputs": [],
   "source": [
    "# 各音素(順番を保持)のdurationの分布\n",
    "sns.barplot(x=\"phoneme\", y=\"duration\", data=df_lab, ci=None)"
   ]
  },
  {
   "cell_type": "code",
   "execution_count": null,
   "metadata": {},
   "outputs": [],
   "source": [
    "# 各音素のdurationの分布, 分散も出しておく\n",
    "\n",
    "sns.barplot(\n",
    "    y=\"phoneme\", x=\"duration\", data=df_lab.groupby(\"phoneme\").mean().reset_index()\n",
    ")"
   ]
  },
  {
   "cell_type": "code",
   "execution_count": null,
   "metadata": {},
   "outputs": [],
   "source": [
    "sns.barplot(\n",
    "    y=\"phoneme\",\n",
    "    x=\"duration\",\n",
    "    data=df_lab.groupby(\"phoneme\").agg({\"duration\": np.var}).reset_index(),\n",
    ")"
   ]
  },
  {
   "cell_type": "code",
   "execution_count": null,
   "metadata": {},
   "outputs": [],
   "source": [
    "import seaborn as sns\n",
    "import matplotlib.pyplot as plt\n",
    "\n",
    "# データをグループ化して平均値を計算し、データフレームを取得する\n",
    "df_mean = df_lab.groupby(\"phoneme\").mean().reset_index()\n",
    "\n",
    "# バーの散らばり具合を計算する\n",
    "df_std = df_lab.groupby(\"phoneme\").std().reset_index()\n",
    "\n",
    "# グラフの描画\n",
    "fig, ax = plt.subplots()\n",
    "sns.barplot(x=\"duration\", y=\"phoneme\", data=df_mean, ax=ax)  # 平均値のバーを描画\n",
    "sns.scatterplot(\n",
    "    x=\"duration\", y=\"phoneme\", data=df_std, color=\"red\", ax=ax\n",
    ")  # 散らばり具合のプロットを描画\n",
    "\n",
    "# グラフの設定\n",
    "ax.set_xlabel(\"Duration\")\n",
    "ax.set_ylabel(\"Phoneme\")\n",
    "ax.set_title(\"Bar Plot with Dispersion\")\n",
    "\n",
    "# グラフの表示\n",
    "plt.show()"
   ]
  },
  {
   "cell_type": "code",
   "execution_count": null,
   "metadata": {},
   "outputs": [],
   "source": []
  }
 ],
 "metadata": {
  "kernelspec": {
   "display_name": "jvs_data_analysis",
   "language": "python",
   "name": "python3"
  },
  "language_info": {
   "codemirror_mode": {
    "name": "ipython",
    "version": 3
   },
   "file_extension": ".py",
   "mimetype": "text/x-python",
   "name": "python",
   "nbconvert_exporter": "python",
   "pygments_lexer": "ipython3",
   "version": "3.10.0"
  }
 },
 "nbformat": 4,
 "nbformat_minor": 2
}
